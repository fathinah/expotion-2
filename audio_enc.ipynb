{
 "cells": [
  {
   "cell_type": "code",
   "execution_count": 2,
   "metadata": {},
   "outputs": [
    {
     "name": "stderr",
     "output_type": "stream",
     "text": [
      "/tmp/slurm-fathinah.izzati-53783/ipykernel_1778976/3587095957.py:14: UserWarning: PySoundFile failed. Trying audioread instead.\n",
      "  wav, _ = librosa.load(audio_path, sr=sr, mono=True)\n",
      "/home/fathinah.izzati/.local/lib/python3.11/site-packages/librosa/core/audio.py:183: FutureWarning: librosa.core.audio.__audioread_load\n",
      "\tDeprecated as of librosa version 0.10.0.\n",
      "\tIt will be removed in librosa version 1.0.\n",
      "  y, sr_native = __audioread_load(path, offset, duration, dtype)\n"
     ]
    },
    {
     "name": "stdout",
     "output_type": "stream",
     "text": [
      "torch.Size([4, 501])\n"
     ]
    },
    {
     "name": "stderr",
     "output_type": "stream",
     "text": [
      "/tmp/slurm-fathinah.izzati-53783/ipykernel_1778976/3587095957.py:14: UserWarning: PySoundFile failed. Trying audioread instead.\n",
      "  wav, _ = librosa.load(audio_path, sr=sr, mono=True)\n",
      "/home/fathinah.izzati/.local/lib/python3.11/site-packages/librosa/core/audio.py:183: FutureWarning: librosa.core.audio.__audioread_load\n",
      "\tDeprecated as of librosa version 0.10.0.\n",
      "\tIt will be removed in librosa version 1.0.\n",
      "  y, sr_native = __audioread_load(path, offset, duration, dtype)\n"
     ]
    },
    {
     "name": "stdout",
     "output_type": "stream",
     "text": [
      "torch.Size([4, 501])\n"
     ]
    },
    {
     "name": "stderr",
     "output_type": "stream",
     "text": [
      "/tmp/slurm-fathinah.izzati-53783/ipykernel_1778976/3587095957.py:14: UserWarning: PySoundFile failed. Trying audioread instead.\n",
      "  wav, _ = librosa.load(audio_path, sr=sr, mono=True)\n",
      "/home/fathinah.izzati/.local/lib/python3.11/site-packages/librosa/core/audio.py:183: FutureWarning: librosa.core.audio.__audioread_load\n",
      "\tDeprecated as of librosa version 0.10.0.\n",
      "\tIt will be removed in librosa version 1.0.\n",
      "  y, sr_native = __audioread_load(path, offset, duration, dtype)\n"
     ]
    },
    {
     "name": "stdout",
     "output_type": "stream",
     "text": [
      "torch.Size([4, 501])\n",
      "torch.Size([4, 501])\n"
     ]
    },
    {
     "name": "stderr",
     "output_type": "stream",
     "text": [
      "/tmp/slurm-fathinah.izzati-53783/ipykernel_1778976/3587095957.py:14: UserWarning: PySoundFile failed. Trying audioread instead.\n",
      "  wav, _ = librosa.load(audio_path, sr=sr, mono=True)\n",
      "/home/fathinah.izzati/.local/lib/python3.11/site-packages/librosa/core/audio.py:183: FutureWarning: librosa.core.audio.__audioread_load\n",
      "\tDeprecated as of librosa version 0.10.0.\n",
      "\tIt will be removed in librosa version 1.0.\n",
      "  y, sr_native = __audioread_load(path, offset, duration, dtype)\n",
      "/tmp/slurm-fathinah.izzati-53783/ipykernel_1778976/3587095957.py:14: UserWarning: PySoundFile failed. Trying audioread instead.\n",
      "  wav, _ = librosa.load(audio_path, sr=sr, mono=True)\n",
      "/home/fathinah.izzati/.local/lib/python3.11/site-packages/librosa/core/audio.py:183: FutureWarning: librosa.core.audio.__audioread_load\n",
      "\tDeprecated as of librosa version 0.10.0.\n",
      "\tIt will be removed in librosa version 1.0.\n",
      "  y, sr_native = __audioread_load(path, offset, duration, dtype)\n"
     ]
    },
    {
     "name": "stdout",
     "output_type": "stream",
     "text": [
      "torch.Size([4, 501])\n"
     ]
    },
    {
     "name": "stderr",
     "output_type": "stream",
     "text": [
      "/tmp/slurm-fathinah.izzati-53783/ipykernel_1778976/3587095957.py:14: UserWarning: PySoundFile failed. Trying audioread instead.\n",
      "  wav, _ = librosa.load(audio_path, sr=sr, mono=True)\n",
      "/home/fathinah.izzati/.local/lib/python3.11/site-packages/librosa/core/audio.py:183: FutureWarning: librosa.core.audio.__audioread_load\n",
      "\tDeprecated as of librosa version 0.10.0.\n",
      "\tIt will be removed in librosa version 1.0.\n",
      "  y, sr_native = __audioread_load(path, offset, duration, dtype)\n"
     ]
    },
    {
     "name": "stdout",
     "output_type": "stream",
     "text": [
      "torch.Size([4, 501])\n"
     ]
    },
    {
     "name": "stderr",
     "output_type": "stream",
     "text": [
      "/tmp/slurm-fathinah.izzati-53783/ipykernel_1778976/3587095957.py:14: UserWarning: PySoundFile failed. Trying audioread instead.\n",
      "  wav, _ = librosa.load(audio_path, sr=sr, mono=True)\n",
      "/home/fathinah.izzati/.local/lib/python3.11/site-packages/librosa/core/audio.py:183: FutureWarning: librosa.core.audio.__audioread_load\n",
      "\tDeprecated as of librosa version 0.10.0.\n",
      "\tIt will be removed in librosa version 1.0.\n",
      "  y, sr_native = __audioread_load(path, offset, duration, dtype)\n"
     ]
    },
    {
     "name": "stdout",
     "output_type": "stream",
     "text": [
      "torch.Size([4, 501])\n"
     ]
    },
    {
     "name": "stderr",
     "output_type": "stream",
     "text": [
      "/tmp/slurm-fathinah.izzati-53783/ipykernel_1778976/3587095957.py:14: UserWarning: PySoundFile failed. Trying audioread instead.\n",
      "  wav, _ = librosa.load(audio_path, sr=sr, mono=True)\n",
      "/home/fathinah.izzati/.local/lib/python3.11/site-packages/librosa/core/audio.py:183: FutureWarning: librosa.core.audio.__audioread_load\n",
      "\tDeprecated as of librosa version 0.10.0.\n",
      "\tIt will be removed in librosa version 1.0.\n",
      "  y, sr_native = __audioread_load(path, offset, duration, dtype)\n"
     ]
    },
    {
     "name": "stdout",
     "output_type": "stream",
     "text": [
      "torch.Size([4, 501])\n"
     ]
    },
    {
     "name": "stderr",
     "output_type": "stream",
     "text": [
      "/tmp/slurm-fathinah.izzati-53783/ipykernel_1778976/3587095957.py:14: UserWarning: PySoundFile failed. Trying audioread instead.\n",
      "  wav, _ = librosa.load(audio_path, sr=sr, mono=True)\n",
      "/home/fathinah.izzati/.local/lib/python3.11/site-packages/librosa/core/audio.py:183: FutureWarning: librosa.core.audio.__audioread_load\n",
      "\tDeprecated as of librosa version 0.10.0.\n",
      "\tIt will be removed in librosa version 1.0.\n",
      "  y, sr_native = __audioread_load(path, offset, duration, dtype)\n"
     ]
    },
    {
     "name": "stdout",
     "output_type": "stream",
     "text": [
      "torch.Size([4, 501])\n"
     ]
    },
    {
     "name": "stderr",
     "output_type": "stream",
     "text": [
      "/tmp/slurm-fathinah.izzati-53783/ipykernel_1778976/3587095957.py:14: UserWarning: PySoundFile failed. Trying audioread instead.\n",
      "  wav, _ = librosa.load(audio_path, sr=sr, mono=True)\n",
      "/home/fathinah.izzati/.local/lib/python3.11/site-packages/librosa/core/audio.py:183: FutureWarning: librosa.core.audio.__audioread_load\n",
      "\tDeprecated as of librosa version 0.10.0.\n",
      "\tIt will be removed in librosa version 1.0.\n",
      "  y, sr_native = __audioread_load(path, offset, duration, dtype)\n"
     ]
    },
    {
     "name": "stdout",
     "output_type": "stream",
     "text": [
      "torch.Size([4, 501])\n"
     ]
    },
    {
     "name": "stderr",
     "output_type": "stream",
     "text": [
      "/tmp/slurm-fathinah.izzati-53783/ipykernel_1778976/3587095957.py:14: UserWarning: PySoundFile failed. Trying audioread instead.\n",
      "  wav, _ = librosa.load(audio_path, sr=sr, mono=True)\n",
      "/home/fathinah.izzati/.local/lib/python3.11/site-packages/librosa/core/audio.py:183: FutureWarning: librosa.core.audio.__audioread_load\n",
      "\tDeprecated as of librosa version 0.10.0.\n",
      "\tIt will be removed in librosa version 1.0.\n",
      "  y, sr_native = __audioread_load(path, offset, duration, dtype)\n"
     ]
    },
    {
     "name": "stdout",
     "output_type": "stream",
     "text": [
      "torch.Size([4, 501])\n"
     ]
    },
    {
     "name": "stderr",
     "output_type": "stream",
     "text": [
      "/tmp/slurm-fathinah.izzati-53783/ipykernel_1778976/3587095957.py:14: UserWarning: PySoundFile failed. Trying audioread instead.\n",
      "  wav, _ = librosa.load(audio_path, sr=sr, mono=True)\n",
      "/home/fathinah.izzati/.local/lib/python3.11/site-packages/librosa/core/audio.py:183: FutureWarning: librosa.core.audio.__audioread_load\n",
      "\tDeprecated as of librosa version 0.10.0.\n",
      "\tIt will be removed in librosa version 1.0.\n",
      "  y, sr_native = __audioread_load(path, offset, duration, dtype)\n"
     ]
    },
    {
     "name": "stdout",
     "output_type": "stream",
     "text": [
      "torch.Size([4, 501])\n"
     ]
    },
    {
     "name": "stderr",
     "output_type": "stream",
     "text": [
      "/tmp/slurm-fathinah.izzati-53783/ipykernel_1778976/3587095957.py:14: UserWarning: PySoundFile failed. Trying audioread instead.\n",
      "  wav, _ = librosa.load(audio_path, sr=sr, mono=True)\n",
      "/home/fathinah.izzati/.local/lib/python3.11/site-packages/librosa/core/audio.py:183: FutureWarning: librosa.core.audio.__audioread_load\n",
      "\tDeprecated as of librosa version 0.10.0.\n",
      "\tIt will be removed in librosa version 1.0.\n",
      "  y, sr_native = __audioread_load(path, offset, duration, dtype)\n"
     ]
    },
    {
     "name": "stdout",
     "output_type": "stream",
     "text": [
      "torch.Size([4, 501])\n"
     ]
    },
    {
     "name": "stderr",
     "output_type": "stream",
     "text": [
      "/tmp/slurm-fathinah.izzati-53783/ipykernel_1778976/3587095957.py:14: UserWarning: PySoundFile failed. Trying audioread instead.\n",
      "  wav, _ = librosa.load(audio_path, sr=sr, mono=True)\n",
      "/home/fathinah.izzati/.local/lib/python3.11/site-packages/librosa/core/audio.py:183: FutureWarning: librosa.core.audio.__audioread_load\n",
      "\tDeprecated as of librosa version 0.10.0.\n",
      "\tIt will be removed in librosa version 1.0.\n",
      "  y, sr_native = __audioread_load(path, offset, duration, dtype)\n"
     ]
    },
    {
     "name": "stdout",
     "output_type": "stream",
     "text": [
      "torch.Size([4, 501])\n"
     ]
    },
    {
     "name": "stderr",
     "output_type": "stream",
     "text": [
      "/tmp/slurm-fathinah.izzati-53783/ipykernel_1778976/3587095957.py:14: UserWarning: PySoundFile failed. Trying audioread instead.\n",
      "  wav, _ = librosa.load(audio_path, sr=sr, mono=True)\n",
      "/home/fathinah.izzati/.local/lib/python3.11/site-packages/librosa/core/audio.py:183: FutureWarning: librosa.core.audio.__audioread_load\n",
      "\tDeprecated as of librosa version 0.10.0.\n",
      "\tIt will be removed in librosa version 1.0.\n",
      "  y, sr_native = __audioread_load(path, offset, duration, dtype)\n"
     ]
    },
    {
     "name": "stdout",
     "output_type": "stream",
     "text": [
      "torch.Size([4, 501])\n"
     ]
    },
    {
     "name": "stderr",
     "output_type": "stream",
     "text": [
      "/tmp/slurm-fathinah.izzati-53783/ipykernel_1778976/3587095957.py:14: UserWarning: PySoundFile failed. Trying audioread instead.\n",
      "  wav, _ = librosa.load(audio_path, sr=sr, mono=True)\n",
      "/home/fathinah.izzati/.local/lib/python3.11/site-packages/librosa/core/audio.py:183: FutureWarning: librosa.core.audio.__audioread_load\n",
      "\tDeprecated as of librosa version 0.10.0.\n",
      "\tIt will be removed in librosa version 1.0.\n",
      "  y, sr_native = __audioread_load(path, offset, duration, dtype)\n"
     ]
    },
    {
     "name": "stdout",
     "output_type": "stream",
     "text": [
      "torch.Size([4, 501])\n"
     ]
    },
    {
     "name": "stderr",
     "output_type": "stream",
     "text": [
      "/tmp/slurm-fathinah.izzati-53783/ipykernel_1778976/3587095957.py:14: UserWarning: PySoundFile failed. Trying audioread instead.\n",
      "  wav, _ = librosa.load(audio_path, sr=sr, mono=True)\n",
      "/home/fathinah.izzati/.local/lib/python3.11/site-packages/librosa/core/audio.py:183: FutureWarning: librosa.core.audio.__audioread_load\n",
      "\tDeprecated as of librosa version 0.10.0.\n",
      "\tIt will be removed in librosa version 1.0.\n",
      "  y, sr_native = __audioread_load(path, offset, duration, dtype)\n"
     ]
    },
    {
     "name": "stdout",
     "output_type": "stream",
     "text": [
      "torch.Size([4, 501])\n"
     ]
    },
    {
     "name": "stderr",
     "output_type": "stream",
     "text": [
      "/tmp/slurm-fathinah.izzati-53783/ipykernel_1778976/3587095957.py:14: UserWarning: PySoundFile failed. Trying audioread instead.\n",
      "  wav, _ = librosa.load(audio_path, sr=sr, mono=True)\n",
      "/home/fathinah.izzati/.local/lib/python3.11/site-packages/librosa/core/audio.py:183: FutureWarning: librosa.core.audio.__audioread_load\n",
      "\tDeprecated as of librosa version 0.10.0.\n",
      "\tIt will be removed in librosa version 1.0.\n",
      "  y, sr_native = __audioread_load(path, offset, duration, dtype)\n"
     ]
    },
    {
     "name": "stdout",
     "output_type": "stream",
     "text": [
      "torch.Size([4, 501])\n"
     ]
    },
    {
     "name": "stderr",
     "output_type": "stream",
     "text": [
      "/tmp/slurm-fathinah.izzati-53783/ipykernel_1778976/3587095957.py:14: UserWarning: PySoundFile failed. Trying audioread instead.\n",
      "  wav, _ = librosa.load(audio_path, sr=sr, mono=True)\n",
      "/home/fathinah.izzati/.local/lib/python3.11/site-packages/librosa/core/audio.py:183: FutureWarning: librosa.core.audio.__audioread_load\n",
      "\tDeprecated as of librosa version 0.10.0.\n",
      "\tIt will be removed in librosa version 1.0.\n",
      "  y, sr_native = __audioread_load(path, offset, duration, dtype)\n"
     ]
    },
    {
     "name": "stdout",
     "output_type": "stream",
     "text": [
      "torch.Size([4, 501])\n"
     ]
    },
    {
     "name": "stderr",
     "output_type": "stream",
     "text": [
      "/tmp/slurm-fathinah.izzati-53783/ipykernel_1778976/3587095957.py:14: UserWarning: PySoundFile failed. Trying audioread instead.\n",
      "  wav, _ = librosa.load(audio_path, sr=sr, mono=True)\n",
      "/home/fathinah.izzati/.local/lib/python3.11/site-packages/librosa/core/audio.py:183: FutureWarning: librosa.core.audio.__audioread_load\n",
      "\tDeprecated as of librosa version 0.10.0.\n",
      "\tIt will be removed in librosa version 1.0.\n",
      "  y, sr_native = __audioread_load(path, offset, duration, dtype)\n"
     ]
    },
    {
     "name": "stdout",
     "output_type": "stream",
     "text": [
      "torch.Size([4, 501])\n"
     ]
    },
    {
     "name": "stderr",
     "output_type": "stream",
     "text": [
      "/tmp/slurm-fathinah.izzati-53783/ipykernel_1778976/3587095957.py:14: UserWarning: PySoundFile failed. Trying audioread instead.\n",
      "  wav, _ = librosa.load(audio_path, sr=sr, mono=True)\n",
      "/home/fathinah.izzati/.local/lib/python3.11/site-packages/librosa/core/audio.py:183: FutureWarning: librosa.core.audio.__audioread_load\n",
      "\tDeprecated as of librosa version 0.10.0.\n",
      "\tIt will be removed in librosa version 1.0.\n",
      "  y, sr_native = __audioread_load(path, offset, duration, dtype)\n"
     ]
    },
    {
     "name": "stdout",
     "output_type": "stream",
     "text": [
      "torch.Size([4, 501])\n"
     ]
    },
    {
     "name": "stderr",
     "output_type": "stream",
     "text": [
      "/tmp/slurm-fathinah.izzati-53783/ipykernel_1778976/3587095957.py:14: UserWarning: PySoundFile failed. Trying audioread instead.\n",
      "  wav, _ = librosa.load(audio_path, sr=sr, mono=True)\n",
      "/home/fathinah.izzati/.local/lib/python3.11/site-packages/librosa/core/audio.py:183: FutureWarning: librosa.core.audio.__audioread_load\n",
      "\tDeprecated as of librosa version 0.10.0.\n",
      "\tIt will be removed in librosa version 1.0.\n",
      "  y, sr_native = __audioread_load(path, offset, duration, dtype)\n"
     ]
    },
    {
     "name": "stdout",
     "output_type": "stream",
     "text": [
      "torch.Size([4, 501])\n"
     ]
    },
    {
     "name": "stderr",
     "output_type": "stream",
     "text": [
      "/tmp/slurm-fathinah.izzati-53783/ipykernel_1778976/3587095957.py:14: UserWarning: PySoundFile failed. Trying audioread instead.\n",
      "  wav, _ = librosa.load(audio_path, sr=sr, mono=True)\n",
      "/home/fathinah.izzati/.local/lib/python3.11/site-packages/librosa/core/audio.py:183: FutureWarning: librosa.core.audio.__audioread_load\n",
      "\tDeprecated as of librosa version 0.10.0.\n",
      "\tIt will be removed in librosa version 1.0.\n",
      "  y, sr_native = __audioread_load(path, offset, duration, dtype)\n"
     ]
    },
    {
     "name": "stdout",
     "output_type": "stream",
     "text": [
      "torch.Size([4, 501])\n"
     ]
    },
    {
     "name": "stderr",
     "output_type": "stream",
     "text": [
      "/tmp/slurm-fathinah.izzati-53783/ipykernel_1778976/3587095957.py:14: UserWarning: PySoundFile failed. Trying audioread instead.\n",
      "  wav, _ = librosa.load(audio_path, sr=sr, mono=True)\n",
      "/home/fathinah.izzati/.local/lib/python3.11/site-packages/librosa/core/audio.py:183: FutureWarning: librosa.core.audio.__audioread_load\n",
      "\tDeprecated as of librosa version 0.10.0.\n",
      "\tIt will be removed in librosa version 1.0.\n",
      "  y, sr_native = __audioread_load(path, offset, duration, dtype)\n"
     ]
    },
    {
     "name": "stdout",
     "output_type": "stream",
     "text": [
      "torch.Size([4, 501])\n"
     ]
    },
    {
     "name": "stderr",
     "output_type": "stream",
     "text": [
      "/tmp/slurm-fathinah.izzati-53783/ipykernel_1778976/3587095957.py:14: UserWarning: PySoundFile failed. Trying audioread instead.\n",
      "  wav, _ = librosa.load(audio_path, sr=sr, mono=True)\n",
      "/home/fathinah.izzati/.local/lib/python3.11/site-packages/librosa/core/audio.py:183: FutureWarning: librosa.core.audio.__audioread_load\n",
      "\tDeprecated as of librosa version 0.10.0.\n",
      "\tIt will be removed in librosa version 1.0.\n",
      "  y, sr_native = __audioread_load(path, offset, duration, dtype)\n"
     ]
    },
    {
     "name": "stdout",
     "output_type": "stream",
     "text": [
      "torch.Size([4, 501])\n"
     ]
    },
    {
     "name": "stderr",
     "output_type": "stream",
     "text": [
      "/tmp/slurm-fathinah.izzati-53783/ipykernel_1778976/3587095957.py:14: UserWarning: PySoundFile failed. Trying audioread instead.\n",
      "  wav, _ = librosa.load(audio_path, sr=sr, mono=True)\n",
      "/home/fathinah.izzati/.local/lib/python3.11/site-packages/librosa/core/audio.py:183: FutureWarning: librosa.core.audio.__audioread_load\n",
      "\tDeprecated as of librosa version 0.10.0.\n",
      "\tIt will be removed in librosa version 1.0.\n",
      "  y, sr_native = __audioread_load(path, offset, duration, dtype)\n"
     ]
    },
    {
     "name": "stdout",
     "output_type": "stream",
     "text": [
      "torch.Size([4, 501])\n"
     ]
    },
    {
     "name": "stderr",
     "output_type": "stream",
     "text": [
      "/tmp/slurm-fathinah.izzati-53783/ipykernel_1778976/3587095957.py:14: UserWarning: PySoundFile failed. Trying audioread instead.\n",
      "  wav, _ = librosa.load(audio_path, sr=sr, mono=True)\n",
      "/home/fathinah.izzati/.local/lib/python3.11/site-packages/librosa/core/audio.py:183: FutureWarning: librosa.core.audio.__audioread_load\n",
      "\tDeprecated as of librosa version 0.10.0.\n",
      "\tIt will be removed in librosa version 1.0.\n",
      "  y, sr_native = __audioread_load(path, offset, duration, dtype)\n"
     ]
    },
    {
     "name": "stdout",
     "output_type": "stream",
     "text": [
      "torch.Size([4, 501])\n"
     ]
    },
    {
     "name": "stderr",
     "output_type": "stream",
     "text": [
      "/tmp/slurm-fathinah.izzati-53783/ipykernel_1778976/3587095957.py:14: UserWarning: PySoundFile failed. Trying audioread instead.\n",
      "  wav, _ = librosa.load(audio_path, sr=sr, mono=True)\n",
      "/home/fathinah.izzati/.local/lib/python3.11/site-packages/librosa/core/audio.py:183: FutureWarning: librosa.core.audio.__audioread_load\n",
      "\tDeprecated as of librosa version 0.10.0.\n",
      "\tIt will be removed in librosa version 1.0.\n",
      "  y, sr_native = __audioread_load(path, offset, duration, dtype)\n"
     ]
    },
    {
     "name": "stdout",
     "output_type": "stream",
     "text": [
      "torch.Size([4, 501])\n"
     ]
    },
    {
     "name": "stderr",
     "output_type": "stream",
     "text": [
      "/tmp/slurm-fathinah.izzati-53783/ipykernel_1778976/3587095957.py:14: UserWarning: PySoundFile failed. Trying audioread instead.\n",
      "  wav, _ = librosa.load(audio_path, sr=sr, mono=True)\n",
      "/home/fathinah.izzati/.local/lib/python3.11/site-packages/librosa/core/audio.py:183: FutureWarning: librosa.core.audio.__audioread_load\n",
      "\tDeprecated as of librosa version 0.10.0.\n",
      "\tIt will be removed in librosa version 1.0.\n",
      "  y, sr_native = __audioread_load(path, offset, duration, dtype)\n"
     ]
    },
    {
     "name": "stdout",
     "output_type": "stream",
     "text": [
      "torch.Size([4, 501])\n"
     ]
    }
   ],
   "source": [
    "import os\n",
    "\n",
    "path = '/l/users/fathinah.izzati/coco-mulla-repo/demo/output/tnj_test'\n",
    "folder_names = [path+'/'+i+'/' for i in os.listdir(path) ]\n",
    "from coco_mulla.utilities.encodec_utils import extract_rvq\n",
    "import librosa\n",
    "import torch\n",
    "import numpy as np\n",
    "device='cuda'\n",
    "sr =32000\n",
    "\n",
    "for folder in folder_names:\n",
    "    audio_path = folder+'video.mp4'\n",
    "    wav, _ = librosa.load(audio_path, sr=sr, mono=True)\n",
    "    wav = torch.from_numpy(wav).to(device)[None, None, ...]\n",
    "    mix_rvq = extract_rvq(wav, sr=sr)\n",
    "    print(mix_rvq.shape)\n",
    "    # break\n",
    "    np.save(folder+'music_emb.npy', mix_rvq.cpu().numpy())"
   ]
  },
  {
   "cell_type": "code",
   "execution_count": null,
   "metadata": {},
   "outputs": [],
   "source": [
    "# Define the base path and file to write\n",
    "base_path = \"/l/users/fathinah.izzati/coco-mulla-repo/demo/output/tnj_test/segment_\"\n",
    "output_file = \"test2.lst\"\n",
    "\n",
    "# Open the file in write mode\n",
    "with open(output_file, \"w\") as f:\n",
    "    # Loop to generate 500 lines with the required format\n",
    "    for i in range(1, 30):\n",
    "        segment_path = f\"{base_path}{i:03d}\"\n",
    "        line = f\"{segment_path} 0 10\\n\"\n",
    "        f.write(line)"
   ]
  }
 ],
 "metadata": {
  "kernelspec": {
   "display_name": "cocomulla",
   "language": "python",
   "name": "python3"
  },
  "language_info": {
   "codemirror_mode": {
    "name": "ipython",
    "version": 3
   },
   "file_extension": ".py",
   "mimetype": "text/x-python",
   "name": "python",
   "nbconvert_exporter": "python",
   "pygments_lexer": "ipython3",
   "version": "3.11.10"
  }
 },
 "nbformat": 4,
 "nbformat_minor": 2
}
